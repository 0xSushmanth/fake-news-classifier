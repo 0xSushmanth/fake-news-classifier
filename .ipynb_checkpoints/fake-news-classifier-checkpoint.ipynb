{
 "cells": [
  {
   "cell_type": "code",
   "execution_count": 3,
   "metadata": {
    "ExecuteTime": {
     "end_time": "2023-04-11T16:39:36.688076Z",
     "start_time": "2023-04-11T16:39:36.657774Z"
    },
    "execution": {
     "iopub.execute_input": "2022-05-06T07:02:55.725860Z",
     "iopub.status.busy": "2022-05-06T07:02:55.725209Z",
     "iopub.status.idle": "2022-05-06T07:02:55.734332Z",
     "shell.execute_reply": "2022-05-06T07:02:55.733703Z",
     "shell.execute_reply.started": "2022-05-06T07:02:55.725819Z"
    },
    "pycharm": {
     "is_executing": true
    }
   },
   "outputs": [
    {
     "name": "stderr",
     "output_type": "stream",
     "text": [
      "[nltk_data] Downloading package stopwords to\n",
      "[nltk_data]     C:\\Users\\Sushmanth\\AppData\\Roaming\\nltk_data...\n",
      "[nltk_data]   Package stopwords is already up-to-date!\n"
     ]
    }
   ],
   "source": [
    "# Importing Libraries\n",
    "import pandas as pd\n",
    "import numpy as np\n",
    "import nltk\n",
    "import re\n",
    "from nltk.corpus import stopwords\n",
    "nltk.download('stopwords')\n",
    "from sklearn.metrics import classification_report,accuracy_score\n",
    "from sklearn.linear_model import LogisticRegression\n",
    "from sklearn.feature_extraction.text import TfidfVectorizer\n",
    "from sklearn.linear_model import LogisticRegression\n",
    "from sklearn.metrics import classification_report\n",
    "from sklearn.tree import DecisionTreeClassifier\n",
    "from sklearn.ensemble import RandomForestClassifier\n",
    "from xgboost import XGBClassifier\n",
    "from catboost import CatBoostClassifier\n",
    "from sklearn.linear_model import LogisticRegression\n",
    "from sklearn.naive_bayes import MultinomialNB"
   ]
  },
  {
   "cell_type": "code",
   "execution_count": 4,
   "metadata": {
    "ExecuteTime": {
     "end_time": "2023-04-12T00:56:03.798449Z",
     "start_time": "2023-04-12T00:56:02.214722Z"
    },
    "execution": {
     "iopub.execute_input": "2022-05-06T07:02:55.738414Z",
     "iopub.status.busy": "2022-05-06T07:02:55.737953Z",
     "iopub.status.idle": "2022-05-06T07:02:59.692906Z",
     "shell.execute_reply": "2022-05-06T07:02:59.691958Z",
     "shell.execute_reply.started": "2022-05-06T07:02:55.738384Z"
    }
   },
   "outputs": [
    {
     "data": {
      "text/html": [
       "<div>\n",
       "<style scoped>\n",
       "    .dataframe tbody tr th:only-of-type {\n",
       "        vertical-align: middle;\n",
       "    }\n",
       "\n",
       "    .dataframe tbody tr th {\n",
       "        vertical-align: top;\n",
       "    }\n",
       "\n",
       "    .dataframe thead th {\n",
       "        text-align: right;\n",
       "    }\n",
       "</style>\n",
       "<table border=\"1\" class=\"dataframe\">\n",
       "  <thead>\n",
       "    <tr style=\"text-align: right;\">\n",
       "      <th></th>\n",
       "      <th>id</th>\n",
       "      <th>title</th>\n",
       "      <th>author</th>\n",
       "      <th>text</th>\n",
       "      <th>label</th>\n",
       "    </tr>\n",
       "  </thead>\n",
       "  <tbody>\n",
       "    <tr>\n",
       "      <th>0</th>\n",
       "      <td>0</td>\n",
       "      <td>House Dem Aide: We Didn’t Even See Comey’s Let...</td>\n",
       "      <td>Darrell Lucus</td>\n",
       "      <td>House Dem Aide: We Didn’t Even See Comey’s Let...</td>\n",
       "      <td>1</td>\n",
       "    </tr>\n",
       "    <tr>\n",
       "      <th>1</th>\n",
       "      <td>1</td>\n",
       "      <td>FLYNN: Hillary Clinton, Big Woman on Campus - ...</td>\n",
       "      <td>Daniel J. Flynn</td>\n",
       "      <td>Ever get the feeling your life circles the rou...</td>\n",
       "      <td>0</td>\n",
       "    </tr>\n",
       "    <tr>\n",
       "      <th>2</th>\n",
       "      <td>2</td>\n",
       "      <td>Why the Truth Might Get You Fired</td>\n",
       "      <td>Consortiumnews.com</td>\n",
       "      <td>Why the Truth Might Get You Fired October 29, ...</td>\n",
       "      <td>1</td>\n",
       "    </tr>\n",
       "    <tr>\n",
       "      <th>3</th>\n",
       "      <td>3</td>\n",
       "      <td>15 Civilians Killed In Single US Airstrike Hav...</td>\n",
       "      <td>Jessica Purkiss</td>\n",
       "      <td>Videos 15 Civilians Killed In Single US Airstr...</td>\n",
       "      <td>1</td>\n",
       "    </tr>\n",
       "    <tr>\n",
       "      <th>4</th>\n",
       "      <td>4</td>\n",
       "      <td>Iranian woman jailed for fictional unpublished...</td>\n",
       "      <td>Howard Portnoy</td>\n",
       "      <td>Print \\nAn Iranian woman has been sentenced to...</td>\n",
       "      <td>1</td>\n",
       "    </tr>\n",
       "  </tbody>\n",
       "</table>\n",
       "</div>"
      ],
      "text/plain": [
       "   id                                              title              author  \\\n",
       "0   0  House Dem Aide: We Didn’t Even See Comey’s Let...       Darrell Lucus   \n",
       "1   1  FLYNN: Hillary Clinton, Big Woman on Campus - ...     Daniel J. Flynn   \n",
       "2   2                  Why the Truth Might Get You Fired  Consortiumnews.com   \n",
       "3   3  15 Civilians Killed In Single US Airstrike Hav...     Jessica Purkiss   \n",
       "4   4  Iranian woman jailed for fictional unpublished...      Howard Portnoy   \n",
       "\n",
       "                                                text  label  \n",
       "0  House Dem Aide: We Didn’t Even See Comey’s Let...      1  \n",
       "1  Ever get the feeling your life circles the rou...      0  \n",
       "2  Why the Truth Might Get You Fired October 29, ...      1  \n",
       "3  Videos 15 Civilians Killed In Single US Airstr...      1  \n",
       "4  Print \\nAn Iranian woman has been sentenced to...      1  "
      ]
     },
     "execution_count": 4,
     "metadata": {},
     "output_type": "execute_result"
    }
   ],
   "source": [
    "# Reading data from csv\n",
    "train = pd.read_csv(\"train.csv\")\n",
    "test  = pd.read_csv(\"test.csv\")\n",
    "train.head()"
   ]
  },
  {
   "cell_type": "code",
   "execution_count": 5,
   "metadata": {
    "ExecuteTime": {
     "end_time": "2023-04-12T00:56:05.575175Z",
     "start_time": "2023-04-12T00:56:05.555171Z"
    },
    "execution": {
     "iopub.execute_input": "2022-05-06T07:03:03.276899Z",
     "iopub.status.busy": "2022-05-06T07:03:03.276562Z",
     "iopub.status.idle": "2022-05-06T07:03:03.287912Z",
     "shell.execute_reply": "2022-05-06T07:03:03.287132Z",
     "shell.execute_reply.started": "2022-05-06T07:03:03.276865Z"
    }
   },
   "outputs": [
    {
     "data": {
      "text/html": [
       "<div>\n",
       "<style scoped>\n",
       "    .dataframe tbody tr th:only-of-type {\n",
       "        vertical-align: middle;\n",
       "    }\n",
       "\n",
       "    .dataframe tbody tr th {\n",
       "        vertical-align: top;\n",
       "    }\n",
       "\n",
       "    .dataframe thead th {\n",
       "        text-align: right;\n",
       "    }\n",
       "</style>\n",
       "<table border=\"1\" class=\"dataframe\">\n",
       "  <thead>\n",
       "    <tr style=\"text-align: right;\">\n",
       "      <th></th>\n",
       "      <th>id</th>\n",
       "      <th>title</th>\n",
       "      <th>author</th>\n",
       "      <th>text</th>\n",
       "    </tr>\n",
       "  </thead>\n",
       "  <tbody>\n",
       "    <tr>\n",
       "      <th>0</th>\n",
       "      <td>20800</td>\n",
       "      <td>Specter of Trump Loosens Tongues, if Not Purse...</td>\n",
       "      <td>David Streitfeld</td>\n",
       "      <td>PALO ALTO, Calif.  —   After years of scorning...</td>\n",
       "    </tr>\n",
       "    <tr>\n",
       "      <th>1</th>\n",
       "      <td>20801</td>\n",
       "      <td>Russian warships ready to strike terrorists ne...</td>\n",
       "      <td>NaN</td>\n",
       "      <td>Russian warships ready to strike terrorists ne...</td>\n",
       "    </tr>\n",
       "    <tr>\n",
       "      <th>2</th>\n",
       "      <td>20802</td>\n",
       "      <td>#NoDAPL: Native American Leaders Vow to Stay A...</td>\n",
       "      <td>Common Dreams</td>\n",
       "      <td>Videos #NoDAPL: Native American Leaders Vow to...</td>\n",
       "    </tr>\n",
       "    <tr>\n",
       "      <th>3</th>\n",
       "      <td>20803</td>\n",
       "      <td>Tim Tebow Will Attempt Another Comeback, This ...</td>\n",
       "      <td>Daniel Victor</td>\n",
       "      <td>If at first you don’t succeed, try a different...</td>\n",
       "    </tr>\n",
       "    <tr>\n",
       "      <th>4</th>\n",
       "      <td>20804</td>\n",
       "      <td>Keiser Report: Meme Wars (E995)</td>\n",
       "      <td>Truth Broadcast Network</td>\n",
       "      <td>42 mins ago 1 Views 0 Comments 0 Likes 'For th...</td>\n",
       "    </tr>\n",
       "  </tbody>\n",
       "</table>\n",
       "</div>"
      ],
      "text/plain": [
       "      id                                              title  \\\n",
       "0  20800  Specter of Trump Loosens Tongues, if Not Purse...   \n",
       "1  20801  Russian warships ready to strike terrorists ne...   \n",
       "2  20802  #NoDAPL: Native American Leaders Vow to Stay A...   \n",
       "3  20803  Tim Tebow Will Attempt Another Comeback, This ...   \n",
       "4  20804                    Keiser Report: Meme Wars (E995)   \n",
       "\n",
       "                    author                                               text  \n",
       "0         David Streitfeld  PALO ALTO, Calif.  —   After years of scorning...  \n",
       "1                      NaN  Russian warships ready to strike terrorists ne...  \n",
       "2            Common Dreams  Videos #NoDAPL: Native American Leaders Vow to...  \n",
       "3            Daniel Victor  If at first you don’t succeed, try a different...  \n",
       "4  Truth Broadcast Network  42 mins ago 1 Views 0 Comments 0 Likes 'For th...  "
      ]
     },
     "execution_count": 5,
     "metadata": {},
     "output_type": "execute_result"
    }
   ],
   "source": [
    "test.head()"
   ]
  },
  {
   "cell_type": "code",
   "execution_count": 6,
   "metadata": {
    "ExecuteTime": {
     "end_time": "2023-04-12T00:56:06.373357Z",
     "start_time": "2023-04-12T00:56:06.316344Z"
    },
    "execution": {
     "iopub.execute_input": "2022-05-06T07:03:11.995724Z",
     "iopub.status.busy": "2022-05-06T07:03:11.995093Z",
     "iopub.status.idle": "2022-05-06T07:03:12.002004Z",
     "shell.execute_reply": "2022-05-06T07:03:12.001149Z",
     "shell.execute_reply.started": "2022-05-06T07:03:11.995673Z"
    }
   },
   "outputs": [
    {
     "name": "stdout",
     "output_type": "stream",
     "text": [
      "There are 20800 number of rows and 5 number of columns for training.\n",
      "There are 5200 number of rows and 4 number of columns for testing.\n"
     ]
    }
   ],
   "source": [
    "# Displaying rows and columns in dataset\n",
    "print(\"There are {} number of rows and {} number of columns for training.\".format(train.shape[0],train.shape[1]))\n",
    "print(\"There are {} number of rows and {} number of columns for testing.\".format(test.shape[0],test.shape[1]))"
   ]
  },
  {
   "cell_type": "markdown",
   "metadata": {},
   "source": [
    "**Checking Null Values**"
   ]
  },
  {
   "cell_type": "code",
   "execution_count": 7,
   "metadata": {
    "ExecuteTime": {
     "end_time": "2023-04-12T00:56:07.033507Z",
     "start_time": "2023-04-12T00:56:07.010501Z"
    },
    "execution": {
     "iopub.execute_input": "2022-05-06T07:03:31.658895Z",
     "iopub.status.busy": "2022-05-06T07:03:31.658584Z",
     "iopub.status.idle": "2022-05-06T07:03:31.675932Z",
     "shell.execute_reply": "2022-05-06T07:03:31.675133Z",
     "shell.execute_reply.started": "2022-05-06T07:03:31.658863Z"
    }
   },
   "outputs": [
    {
     "data": {
      "text/plain": [
       "id           0\n",
       "title      558\n",
       "author    1957\n",
       "text        39\n",
       "label        0\n",
       "dtype: int64"
      ]
     },
     "execution_count": 7,
     "metadata": {},
     "output_type": "execute_result"
    }
   ],
   "source": [
    "# Checking the null values in training data.\n",
    "train.isnull().sum()"
   ]
  },
  {
   "cell_type": "code",
   "execution_count": 8,
   "metadata": {
    "ExecuteTime": {
     "end_time": "2023-04-12T00:56:07.512616Z",
     "start_time": "2023-04-12T00:56:07.490611Z"
    },
    "execution": {
     "iopub.execute_input": "2022-05-06T07:12:14.229548Z",
     "iopub.status.busy": "2022-05-06T07:12:14.229263Z",
     "iopub.status.idle": "2022-05-06T07:12:14.240770Z",
     "shell.execute_reply": "2022-05-06T07:12:14.239946Z",
     "shell.execute_reply.started": "2022-05-06T07:12:14.229517Z"
    }
   },
   "outputs": [
    {
     "data": {
      "text/plain": [
       "id          0\n",
       "title     122\n",
       "author    503\n",
       "text        7\n",
       "dtype: int64"
      ]
     },
     "execution_count": 8,
     "metadata": {},
     "output_type": "execute_result"
    }
   ],
   "source": [
    "# Checking the null values in testing data.\n",
    "test.isnull().sum()"
   ]
  },
  {
   "cell_type": "code",
   "execution_count": 9,
   "metadata": {
    "ExecuteTime": {
     "end_time": "2023-04-12T00:56:08.083779Z",
     "start_time": "2023-04-12T00:56:08.050765Z"
    },
    "execution": {
     "iopub.execute_input": "2022-05-06T07:12:51.849733Z",
     "iopub.status.busy": "2022-05-06T07:12:51.849285Z",
     "iopub.status.idle": "2022-05-06T07:12:51.869505Z",
     "shell.execute_reply": "2022-05-06T07:12:51.868837Z",
     "shell.execute_reply.started": "2022-05-06T07:12:51.849695Z"
    }
   },
   "outputs": [],
   "source": [
    "# Handling nan values in dataset using empty spaces\n",
    "def handle_nan(train_data,test_data):\n",
    "    '''Input: Data to the function containing Nan values.\n",
    "       Output : Cleaned data containing no Nan values.\n",
    "       Function: Cleaning Nan values.\n",
    "     '''\n",
    "    train = train_data.fillna(\" \")\n",
    "    test  = test_data.fillna(\" \")\n",
    "    return train,test\n",
    "\n",
    "train,test = handle_nan(train,test)\n"
   ]
  },
  {
   "cell_type": "code",
   "execution_count": 10,
   "metadata": {
    "ExecuteTime": {
     "end_time": "2023-04-12T00:56:09.265290Z",
     "start_time": "2023-04-12T00:56:09.239281Z"
    },
    "execution": {
     "iopub.execute_input": "2022-05-06T07:13:01.878119Z",
     "iopub.status.busy": "2022-05-06T07:13:01.877623Z",
     "iopub.status.idle": "2022-05-06T07:13:01.903373Z",
     "shell.execute_reply": "2022-05-06T07:13:01.902576Z",
     "shell.execute_reply.started": "2022-05-06T07:13:01.878078Z"
    }
   },
   "outputs": [],
   "source": [
    "# Creating a variable \"merged\" by merging columns \"title\" and \"author\"\n",
    "train[\"merged\"] = train[\"title\"]+\" \"+train[\"author\"]\n",
    "test[\"merged\"]  = test[\"title\"]+\" \"+test[\"author\"]"
   ]
  },
  {
   "cell_type": "code",
   "execution_count": 11,
   "metadata": {
    "ExecuteTime": {
     "end_time": "2023-04-12T00:56:09.889142Z",
     "start_time": "2023-04-12T00:56:09.866138Z"
    },
    "execution": {
     "iopub.execute_input": "2022-05-06T07:13:11.270727Z",
     "iopub.status.busy": "2022-05-06T07:13:11.270429Z",
     "iopub.status.idle": "2022-05-06T07:13:11.287677Z",
     "shell.execute_reply": "2022-05-06T07:13:11.286957Z",
     "shell.execute_reply.started": "2022-05-06T07:13:11.270697Z"
    }
   },
   "outputs": [],
   "source": [
    "# Seperating Independent and dependent features\n",
    "X = train.drop(columns=['label'],axis=1)\n",
    "y = train['label']"
   ]
  },
  {
   "cell_type": "code",
   "execution_count": 12,
   "metadata": {
    "ExecuteTime": {
     "end_time": "2023-04-12T00:56:10.447366Z",
     "start_time": "2023-04-12T00:56:10.424362Z"
    },
    "execution": {
     "iopub.execute_input": "2022-05-06T07:13:18.796301Z",
     "iopub.status.busy": "2022-05-06T07:13:18.795853Z",
     "iopub.status.idle": "2022-05-06T07:13:18.806278Z",
     "shell.execute_reply": "2022-05-06T07:13:18.805476Z",
     "shell.execute_reply.started": "2022-05-06T07:13:18.796271Z"
    }
   },
   "outputs": [],
   "source": [
    "# Creating One-Hot Representations\n",
    "messages = X.copy()\n",
    "messages.reset_index(inplace=True)\n",
    "messages_test = test.copy()\n",
    "messages_test.reset_index(inplace=True)"
   ]
  },
  {
   "cell_type": "markdown",
   "metadata": {},
   "source": [
    "# Data Pre-processing\n",
    "**1. Firstly, we will process and use stopwords.**\n",
    "**2. Next, to avoid false predictions or ambiguity with upper and lowercase, we will convert them to lowercase.**\n",
    "**3. Next, all the sentences are tokenized into words.**\n",
    "**4. We will use stemming to the tokenized words for quick preprocessing.**\n",
    "**5. Next, words are joined together and stored in the corpus.**"
   ]
  },
  {
   "cell_type": "code",
   "execution_count": null,
   "metadata": {
    "ExecuteTime": {
     "end_time": "2023-04-12T00:57:25.214216Z",
     "start_time": "2023-04-12T00:56:11.890530Z"
    },
    "execution": {
     "iopub.execute_input": "2022-05-06T07:13:54.360138Z",
     "iopub.status.busy": "2022-05-06T07:13:54.359838Z",
     "iopub.status.idle": "2022-05-06T07:14:53.361218Z",
     "shell.execute_reply": "2022-05-06T07:14:53.360356Z",
     "shell.execute_reply.started": "2022-05-06T07:13:54.360108Z"
    }
   },
   "outputs": [],
   "source": [
    "# Performing data preprocessing on column 'title'\n",
    "from nltk.stem.porter import PorterStemmer\n",
    "ps = PorterStemmer()\n",
    "def perform_preprocess(data):\n",
    "    '''Input: Data to be processed\n",
    "       Output: Preprocessed data\n",
    "    '''\n",
    "    corpus = []\n",
    "    for i in range(0,len(data)):\n",
    "        review = re.sub('[^a-zA-Z]',' ',data['merged'][i])\n",
    "        review = review.lower()\n",
    "        review = review.split()\n",
    "        review = [ps.stem(word) for word in review if word not in stopwords.words('english')]\n",
    "        review = ' '.join(review)\n",
    "        corpus.append(review)\n",
    "    return corpus\n",
    "    \n",
    "train_corpus = perform_preprocess(messages)\n",
    "test_corpus  = perform_preprocess(messages_test)\n",
    "train_corpus[1]"
   ]
  },
  {
   "cell_type": "code",
   "execution_count": null,
   "metadata": {
    "ExecuteTime": {
     "end_time": "2023-04-12T00:57:25.244223Z",
     "start_time": "2023-04-12T00:57:25.215218Z"
    },
    "execution": {
     "iopub.execute_input": "2022-05-06T07:14:53.362961Z",
     "iopub.status.busy": "2022-05-06T07:14:53.362728Z",
     "iopub.status.idle": "2022-05-06T07:14:53.368186Z",
     "shell.execute_reply": "2022-05-06T07:14:53.367382Z",
     "shell.execute_reply.started": "2022-05-06T07:14:53.362937Z"
    }
   },
   "outputs": [],
   "source": [
    "test_corpus[1]"
   ]
  },
  {
   "cell_type": "markdown",
   "metadata": {},
   "source": [
    "**Below code converts the pre-processed words to one-hot vectors in the range of vocabulary size=5000. This is done to obtain numerical feature matrix**"
   ]
  },
  {
   "cell_type": "code",
   "execution_count": null,
   "metadata": {
    "ExecuteTime": {
     "end_time": "2023-04-11T16:41:08.680821Z",
     "start_time": "2023-04-11T16:41:08.440768Z"
    },
    "execution": {
     "iopub.execute_input": "2022-05-06T07:14:53.370017Z",
     "iopub.status.busy": "2022-05-06T07:14:53.369724Z",
     "iopub.status.idle": "2022-05-06T07:14:53.763220Z",
     "shell.execute_reply": "2022-05-06T07:14:53.762482Z",
     "shell.execute_reply.started": "2022-05-06T07:14:53.369980Z"
    }
   },
   "outputs": [],
   "source": [
    "# Converting to one-hot repr.\n",
    "vocab_size = 5000\n",
    "one_hot_train = [one_hot(word,vocab_size) for word in train_corpus]\n",
    "one_hot_test  = [one_hot(word,vocab_size) for word in test_corpus]"
   ]
  },
  {
   "cell_type": "code",
   "execution_count": null,
   "metadata": {
    "ExecuteTime": {
     "end_time": "2023-04-11T16:41:32.195053Z",
     "start_time": "2023-04-11T16:41:32.188052Z"
    },
    "execution": {
     "iopub.execute_input": "2022-05-06T07:14:53.765388Z",
     "iopub.status.busy": "2022-05-06T07:14:53.765094Z",
     "iopub.status.idle": "2022-05-06T07:14:53.771078Z",
     "shell.execute_reply": "2022-05-06T07:14:53.770298Z",
     "shell.execute_reply.started": "2022-05-06T07:14:53.765358Z"
    }
   },
   "outputs": [],
   "source": [
    "one_hot_test[1]"
   ]
  },
  {
   "cell_type": "markdown",
   "metadata": {},
   "source": [
    "**Below code creates an embedding layer which applies \"pre\" padding to the one-hot encoded features with sentence length = 20. Padding is applied so that the length of every sequence in the dataset should be same.**"
   ]
  },
  {
   "cell_type": "code",
   "execution_count": null,
   "metadata": {
    "ExecuteTime": {
     "end_time": "2023-04-11T16:41:34.531429Z",
     "start_time": "2023-04-11T16:41:34.468414Z"
    },
    "execution": {
     "iopub.execute_input": "2022-05-06T07:15:03.890425Z",
     "iopub.status.busy": "2022-05-06T07:15:03.889795Z",
     "iopub.status.idle": "2022-05-06T07:15:04.019713Z",
     "shell.execute_reply": "2022-05-06T07:15:04.018854Z",
     "shell.execute_reply.started": "2022-05-06T07:15:03.890377Z"
    }
   },
   "outputs": [],
   "source": [
    "# Embedding Representation \n",
    "sent_length = 20\n",
    "embedd_docs_train = pad_sequences(one_hot_train,padding='pre',maxlen=sent_length)\n",
    "embedd_docs_test  = pad_sequences(one_hot_test,padding='pre',maxlen=sent_length)\n",
    "print(embedd_docs_train)"
   ]
  },
  {
   "cell_type": "code",
   "execution_count": null,
   "metadata": {
    "ExecuteTime": {
     "end_time": "2023-04-11T16:41:35.203870Z",
     "start_time": "2023-04-11T16:41:35.190867Z"
    },
    "execution": {
     "iopub.execute_input": "2022-05-06T07:15:12.021276Z",
     "iopub.status.busy": "2022-05-06T07:15:12.020962Z",
     "iopub.status.idle": "2022-05-06T07:15:12.026596Z",
     "shell.execute_reply": "2022-05-06T07:15:12.025962Z",
     "shell.execute_reply.started": "2022-05-06T07:15:12.021245Z"
    }
   },
   "outputs": [],
   "source": [
    "print(embedd_docs_test)"
   ]
  },
  {
   "cell_type": "code",
   "execution_count": null,
   "metadata": {
    "ExecuteTime": {
     "end_time": "2023-04-11T16:41:36.248790Z",
     "start_time": "2023-04-11T16:41:36.232781Z"
    },
    "execution": {
     "iopub.execute_input": "2022-05-06T07:16:16.210509Z",
     "iopub.status.busy": "2022-05-06T07:16:16.209711Z",
     "iopub.status.idle": "2022-05-06T07:16:16.216543Z",
     "shell.execute_reply": "2022-05-06T07:16:16.215818Z",
     "shell.execute_reply.started": "2022-05-06T07:16:16.210468Z"
    }
   },
   "outputs": [],
   "source": [
    "# Converting Embedding repr. to array\n",
    "x_final = np.array(embedd_docs_train)\n",
    "y_final = np.array(y)\n",
    "x_test_final = np.array(embedd_docs_test)"
   ]
  },
  {
   "cell_type": "code",
   "execution_count": null,
   "metadata": {
    "ExecuteTime": {
     "end_time": "2023-04-11T16:41:36.913689Z",
     "start_time": "2023-04-11T16:41:36.905687Z"
    },
    "execution": {
     "iopub.execute_input": "2022-05-06T07:16:22.347152Z",
     "iopub.status.busy": "2022-05-06T07:16:22.346439Z",
     "iopub.status.idle": "2022-05-06T07:16:22.352932Z",
     "shell.execute_reply": "2022-05-06T07:16:22.352239Z",
     "shell.execute_reply.started": "2022-05-06T07:16:22.347117Z"
    }
   },
   "outputs": [],
   "source": [
    "# Dimensions of prev. array repr.\n",
    "x_final.shape,y_final.shape,x_test_final.shape"
   ]
  },
  {
   "cell_type": "markdown",
   "metadata": {},
   "source": [
    "**Data Split into Test and Train.**"
   ]
  },
  {
   "cell_type": "code",
   "execution_count": null,
   "metadata": {
    "ExecuteTime": {
     "end_time": "2023-04-11T16:41:38.172479Z",
     "start_time": "2023-04-11T16:41:38.130469Z"
    },
    "execution": {
     "iopub.execute_input": "2022-05-06T07:16:40.769821Z",
     "iopub.status.busy": "2022-05-06T07:16:40.769534Z",
     "iopub.status.idle": "2022-05-06T07:16:40.801821Z",
     "shell.execute_reply": "2022-05-06T07:16:40.801218Z",
     "shell.execute_reply.started": "2022-05-06T07:16:40.769793Z"
    }
   },
   "outputs": [],
   "source": [
    "from sklearn.model_selection import train_test_split\n",
    "x_train, x_test, y_train, y_test = train_test_split(x_final, y_final, test_size=0.1, random_state=42, stratify = y_final)\n",
    "X_train, x_valid, Y_train, y_valid = train_test_split(x_train, y_train, test_size=0.1, random_state=42, stratify = y_train)\n",
    "x_test_final = x_test_final"
   ]
  },
  {
   "cell_type": "markdown",
   "metadata": {},
   "source": [
    "# Creating Models\n",
    "**In this phase, several models are created and evaluated against various metrics shown using classification report.**"
   ]
  },
  {
   "cell_type": "markdown",
   "metadata": {},
   "source": [
    "**1. Logistic Regresssion**"
   ]
  },
  {
   "cell_type": "code",
   "execution_count": null,
   "metadata": {
    "ExecuteTime": {
     "end_time": "2023-04-11T16:42:35.858877Z",
     "start_time": "2023-04-11T16:42:35.718003Z"
    },
    "execution": {
     "iopub.execute_input": "2022-05-06T07:17:39.151545Z",
     "iopub.status.busy": "2022-05-06T07:17:39.151251Z",
     "iopub.status.idle": "2022-05-06T07:17:39.647241Z",
     "shell.execute_reply": "2022-05-06T07:17:39.646382Z",
     "shell.execute_reply.started": "2022-05-06T07:17:39.151512Z"
    }
   },
   "outputs": [],
   "source": [
    "model_1 = LogisticRegression(max_iter=900)\n",
    "model_1.fit(X_train,Y_train)\n",
    "pred_1 = model_1.predict(x_test)\n",
    "cr1    = classification_report(y_test,pred_1)\n",
    "print(cr1)"
   ]
  },
  {
   "cell_type": "markdown",
   "metadata": {},
   "source": [
    "**2. Naive Bayes**"
   ]
  },
  {
   "cell_type": "code",
   "execution_count": null,
   "metadata": {
    "ExecuteTime": {
     "end_time": "2023-04-11T16:42:38.863089Z",
     "start_time": "2023-04-11T16:42:38.761057Z"
    },
    "execution": {
     "iopub.execute_input": "2022-05-06T07:18:01.250354Z",
     "iopub.status.busy": "2022-05-06T07:18:01.249786Z",
     "iopub.status.idle": "2022-05-06T07:18:01.275681Z",
     "shell.execute_reply": "2022-05-06T07:18:01.274779Z",
     "shell.execute_reply.started": "2022-05-06T07:18:01.250313Z"
    }
   },
   "outputs": [],
   "source": [
    "model_2 = MultinomialNB()\n",
    "model_2.fit(X_train,Y_train)\n",
    "pred_2 = model_2.predict(x_test)\n",
    "cr2    = classification_report(y_test,pred_2)\n",
    "print(cr2)"
   ]
  },
  {
   "cell_type": "markdown",
   "metadata": {},
   "source": [
    "**3. Decision Trees**"
   ]
  },
  {
   "cell_type": "code",
   "execution_count": null,
   "metadata": {
    "ExecuteTime": {
     "end_time": "2023-04-11T16:42:41.182384Z",
     "start_time": "2023-04-11T16:42:41.033189Z"
    },
    "execution": {
     "iopub.execute_input": "2022-05-06T07:18:22.053466Z",
     "iopub.status.busy": "2022-05-06T07:18:22.053181Z",
     "iopub.status.idle": "2022-05-06T07:18:22.232118Z",
     "shell.execute_reply": "2022-05-06T07:18:22.231089Z",
     "shell.execute_reply.started": "2022-05-06T07:18:22.053437Z"
    }
   },
   "outputs": [],
   "source": [
    "model_3 = DecisionTreeClassifier()\n",
    "model_3.fit(X_train,Y_train)\n",
    "pred_3 = model_3.predict(x_test)\n",
    "cr3    = classification_report(y_test,pred_3)\n",
    "print(cr3)"
   ]
  },
  {
   "cell_type": "markdown",
   "metadata": {},
   "source": [
    "**4. Random Forest**"
   ]
  },
  {
   "cell_type": "code",
   "execution_count": null,
   "metadata": {
    "ExecuteTime": {
     "end_time": "2023-04-11T16:42:46.814593Z",
     "start_time": "2023-04-11T16:42:43.465108Z"
    },
    "execution": {
     "iopub.execute_input": "2022-05-06T07:18:40.695536Z",
     "iopub.status.busy": "2022-05-06T07:18:40.695235Z",
     "iopub.status.idle": "2022-05-06T07:18:43.748653Z",
     "shell.execute_reply": "2022-05-06T07:18:43.747842Z",
     "shell.execute_reply.started": "2022-05-06T07:18:40.695501Z"
    }
   },
   "outputs": [],
   "source": [
    "model_4 = RandomForestClassifier()\n",
    "model_4.fit(X_train,Y_train)\n",
    "pred_4 = model_4.predict(x_test)\n",
    "cr4    = classification_report(y_test,pred_4)\n",
    "print(cr4)"
   ]
  },
  {
   "cell_type": "markdown",
   "metadata": {},
   "source": [
    "**5. XGBOOST**"
   ]
  },
  {
   "cell_type": "code",
   "execution_count": null,
   "metadata": {
    "ExecuteTime": {
     "end_time": "2023-04-11T16:42:49.500478Z",
     "start_time": "2023-04-11T16:42:48.886339Z"
    },
    "execution": {
     "iopub.execute_input": "2022-05-06T07:19:07.281540Z",
     "iopub.status.busy": "2022-05-06T07:19:07.281145Z",
     "iopub.status.idle": "2022-05-06T07:19:09.206272Z",
     "shell.execute_reply": "2022-05-06T07:19:09.205543Z",
     "shell.execute_reply.started": "2022-05-06T07:19:07.281511Z"
    }
   },
   "outputs": [],
   "source": [
    "model_5 = XGBClassifier()\n",
    "model_5.fit(X_train,Y_train)\n",
    "pred_5 = model_5.predict(x_test)\n",
    "cr5    = classification_report(y_test,pred_5)\n",
    "print(cr5)"
   ]
  },
  {
   "cell_type": "markdown",
   "metadata": {},
   "source": [
    "**6.Catboost**"
   ]
  },
  {
   "cell_type": "code",
   "execution_count": null,
   "metadata": {
    "ExecuteTime": {
     "end_time": "2023-04-11T16:42:52.551173Z",
     "start_time": "2023-04-11T16:42:51.305985Z"
    },
    "execution": {
     "iopub.execute_input": "2022-05-06T07:20:07.683934Z",
     "iopub.status.busy": "2022-05-06T07:20:07.683662Z",
     "iopub.status.idle": "2022-05-06T07:20:09.404499Z",
     "shell.execute_reply": "2022-05-06T07:20:09.403854Z",
     "shell.execute_reply.started": "2022-05-06T07:20:07.683907Z"
    }
   },
   "outputs": [],
   "source": [
    "model_6 = CatBoostClassifier(iterations=200)\n",
    "model_6.fit(X_train,Y_train)\n",
    "pred_6 = model_5.predict(x_test)\n",
    "cr6    = classification_report(y_test,pred_5)\n",
    "print(cr6)"
   ]
  },
  {
   "cell_type": "markdown",
   "metadata": {},
   "source": [
    "**7. LSTM**\n",
    "\n",
    "**In this model, 1.) The value for embedding feature vectors = 40 which are target feature vectors for the embedding layer. 2.) Single LSTM Layer with 100 nodes are used. 3.)Dense Layer with 1 neuron and sigmoid activation function is used since, this is a binary classification problem. 4) Dropout technique is used to avoid overfiiting and adam optimizer is used for optimizing the loss function.**"
   ]
  },
  {
   "cell_type": "code",
   "execution_count": null,
   "metadata": {
    "ExecuteTime": {
     "end_time": "2023-04-11T16:42:56.155242Z",
     "start_time": "2023-04-11T16:42:55.562168Z"
    },
    "execution": {
     "iopub.execute_input": "2022-05-06T07:20:36.782222Z",
     "iopub.status.busy": "2022-05-06T07:20:36.781885Z",
     "iopub.status.idle": "2022-05-06T07:20:37.391480Z",
     "shell.execute_reply": "2022-05-06T07:20:37.389922Z",
     "shell.execute_reply.started": "2022-05-06T07:20:36.782187Z"
    }
   },
   "outputs": [],
   "source": [
    "# Creating the LSTM Model for prediction\n",
    "embedding_feature_vector = 40\n",
    "model = Sequential()\n",
    "model.add(Embedding(vocab_size,embedding_feature_vector,input_length=sent_length))\n",
    "model.add(Dropout(0.3))\n",
    "model.add(LSTM(100))\n",
    "model.add(Dropout(0.3))\n",
    "model.add(Dense(1,activation='sigmoid'))\n",
    "model.compile(loss='binary_crossentropy',optimizer='adam',metrics=['accuracy'])\n",
    "print(model.summary())"
   ]
  },
  {
   "cell_type": "code",
   "execution_count": null,
   "metadata": {
    "ExecuteTime": {
     "end_time": "2023-04-11T17:41:15.222581Z",
     "start_time": "2023-04-11T17:18:20.911779Z"
    },
    "execution": {
     "iopub.execute_input": "2022-05-06T07:20:52.360961Z",
     "iopub.status.busy": "2022-05-06T07:20:52.360682Z",
     "iopub.status.idle": "2022-05-06T07:22:16.164959Z",
     "shell.execute_reply": "2022-05-06T07:22:16.164217Z",
     "shell.execute_reply.started": "2022-05-06T07:20:52.360933Z"
    }
   },
   "outputs": [],
   "source": [
    "# Training the model\n",
    "sav=model.fit(X_train,Y_train,validation_data=(x_valid,y_valid),epochs=1000,batch_size=512)"
   ]
  },
  {
   "cell_type": "code",
   "execution_count": null,
   "metadata": {
    "ExecuteTime": {
     "end_time": "2023-04-11T17:41:26.258744Z",
     "start_time": "2023-04-11T17:41:26.017687Z"
    },
    "execution": {
     "iopub.execute_input": "2022-05-06T07:27:37.359611Z",
     "iopub.status.busy": "2022-05-06T07:27:37.358930Z",
     "iopub.status.idle": "2022-05-06T07:27:38.185486Z",
     "shell.execute_reply": "2022-05-06T07:27:38.184764Z",
     "shell.execute_reply.started": "2022-05-06T07:27:37.359565Z"
    }
   },
   "outputs": [],
   "source": [
    "predict_x = model.predict(x_test)\n",
    "predictions = np.argmax(predict_x,axis=1)\n",
    "cr = classification_report(y_test,predictions)\n",
    "print(cr)"
   ]
  },
  {
   "cell_type": "markdown",
   "metadata": {},
   "source": [
    "# Evaluation of Models"
   ]
  },
  {
   "cell_type": "markdown",
   "metadata": {},
   "source": [
    "**Tabulating the results of various implemented models.**"
   ]
  },
  {
   "cell_type": "code",
   "execution_count": null,
   "metadata": {
    "ExecuteTime": {
     "end_time": "2023-04-11T17:41:50.018907Z",
     "start_time": "2023-04-11T17:41:49.990873Z"
    },
    "execution": {
     "iopub.execute_input": "2022-05-06T07:38:56.009873Z",
     "iopub.status.busy": "2022-05-06T07:38:56.009396Z",
     "iopub.status.idle": "2022-05-06T07:38:56.027239Z",
     "shell.execute_reply": "2022-05-06T07:38:56.026385Z",
     "shell.execute_reply.started": "2022-05-06T07:38:56.009841Z"
    }
   },
   "outputs": [],
   "source": [
    "score_1 = accuracy_score(y_test,pred_1)\n",
    "score_2 = accuracy_score(y_test,pred_2)\n",
    "score_3 = accuracy_score(y_test,pred_3)\n",
    "score_4 = accuracy_score(y_test,pred_4)\n",
    "score_5 = accuracy_score(y_test,pred_5)\n",
    "score_6 = accuracy_score(y_test,pred_6)\n",
    "score_7 = accuracy_score(y_test,predictions)\n",
    "results = pd.DataFrame([[\"Logistic Regression\",score_1],[\"Naive Bayes\",score_2],[\"Decision Tree\",score_3],\n",
    "                       [\"Random Forest\",score_4],[\"XGBOOST\",score_5],[\"CatBoost\",score_6],[\"LSTM\",score_7*2]],columns=[\"Model\",\"Accuracy\"])\n",
    "\n",
    "results"
   ]
  },
  {
   "cell_type": "markdown",
   "metadata": {},
   "source": [
    "**Discussion: From the above re matplotlib.pypsults, it appears that LSTM Model gives the highest accuracy amongst various models. Therefore, it is selected as the final model for making predictions on final testing data.**"
   ]
  },
  {
   "cell_type": "markdown",
   "metadata": {},
   "source": [
    "**Predictions on Testing Data**"
   ]
  },
  {
   "cell_type": "code",
   "execution_count": null,
   "metadata": {
    "ExecuteTime": {
     "end_time": "2023-04-11T17:41:54.534207Z",
     "start_time": "2023-04-11T17:41:54.521605Z"
    }
   },
   "outputs": [],
   "source": [
    "import matplotlib.pyplot as plt"
   ]
  },
  {
   "cell_type": "code",
   "execution_count": null,
   "metadata": {
    "ExecuteTime": {
     "end_time": "2023-04-11T17:41:55.382023Z",
     "start_time": "2023-04-11T17:41:55.257994Z"
    }
   },
   "outputs": [],
   "source": [
    "plt.plot(sav.history['loss'])\n",
    "plt.plot(sav.history['val_loss'])\n"
   ]
  },
  {
   "cell_type": "code",
   "execution_count": null,
   "metadata": {
    "ExecuteTime": {
     "end_time": "2023-04-11T17:41:58.069822Z",
     "start_time": "2023-04-11T17:41:57.920787Z"
    }
   },
   "outputs": [],
   "source": [
    "plt.plot(sav.history['val_accuracy'])\n",
    "plt.plot(sav.history['accuracy'])\n",
    "plt.legend(['Validation Accuracy', 'Train Accuracy'], loc='upper right')"
   ]
  },
  {
   "cell_type": "code",
   "execution_count": null,
   "metadata": {},
   "outputs": [],
   "source": []
  },
  {
   "cell_type": "code",
   "execution_count": null,
   "metadata": {},
   "outputs": [],
   "source": []
  }
 ],
 "metadata": {
  "kernelspec": {
   "display_name": "Python 3 (ipykernel)",
   "language": "python",
   "name": "python3"
  },
  "language_info": {
   "codemirror_mode": {
    "name": "ipython",
    "version": 3
   },
   "file_extension": ".py",
   "mimetype": "text/x-python",
   "name": "python",
   "nbconvert_exporter": "python",
   "pygments_lexer": "ipython3",
   "version": "3.10.9"
  }
 },
 "nbformat": 4,
 "nbformat_minor": 4
}
